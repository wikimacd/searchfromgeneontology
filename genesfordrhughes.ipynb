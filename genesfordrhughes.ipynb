{
 "cells": [
  {
   "cell_type": "code",
   "execution_count": 1,
   "id": "d08c90c3",
   "metadata": {},
   "outputs": [],
   "source": [
    "import pandas as pd"
   ]
  },
  {
   "cell_type": "code",
   "execution_count": 19,
   "id": "025d052d",
   "metadata": {},
   "outputs": [
    {
     "name": "stdout",
     "output_type": "stream",
     "text": [
      "         GO-TERM\n",
      "0     GO:0070531\n",
      "1     GO:0070531\n",
      "2            NaN\n",
      "3            NaN\n",
      "4            NaN\n",
      "...          ...\n",
      "4960  GO:0033064\n",
      "4961  GO:0033064\n",
      "4962  GO:0033064\n",
      "4963  GO:0033064\n",
      "4964  GO:0033064\n",
      "\n",
      "[4965 rows x 1 columns]\n"
     ]
    }
   ],
   "source": [
    "df = pd.read_excel (r'C:\\Users\\abolima\\genegoterms.xlsx', sheet_name='ROD_ToMcDonald', usecols=\"G\")\n",
    "\n",
    "print (df)"
   ]
  },
  {
   "cell_type": "code",
   "execution_count": 20,
   "id": "16c0d364",
   "metadata": {},
   "outputs": [
    {
     "name": "stdout",
     "output_type": "stream",
     "text": [
      "['GO:0070531', 'GO:0010997', 'GO:0009454', 'GO:0070310', 'GO:0031436', 'GO:0070724', 'GO:0070767', 'GO:0002111', 'GO:0140708', 'GO:0071064', 'GO:0071079', 'GO:0011200', 'GO:0005694', 'GO:1990175', 'GO:0032301', 'GO:0005003', 'GO:0038143', 'GO:0070516', 'GO:0043240', 'GO:0071821', 'GO:0036337', 'GO:0008543', 'GO:0004333', 'GO:0048256', 'GO:0070186', 'GO:0004364', 'GO:1990712', 'GO:0000344', 'GO:0016942', 'GO:0036029', 'GO:0032390', 'GO:0032389', 'GO:0030870', 'GO:0032302', 'GO:0071943', 'GO:0047921', 'GO:0038049', 'GO:0070431', 'GO:0031849', 'GO:0005942', 'GO:0036027', 'GO:0005760', 'GO:1990455', 'GO:0070522', 'GO:0033066', 'GO:0033063', 'GO:0070312', 'GO:0031422', 'GO:0005662', 'GO:0045281', 'GO:0033868', 'GO:1990572', 'GO:0071100', 'GO:0070018', 'GO:0061481', 'GO:0030330', 'GO:0042809', 'GO:0038085', 'GO:0030891', 'GO:0000110', 'GO:0071942', 'GO:0033064']\n",
      "62\n"
     ]
    }
   ],
   "source": [
    "genes = []\n",
    "\n",
    "for index, x in df.iterrows():\n",
    "    s = str(x['GO-TERM'])\n",
    "    if(s != 'nan'):\n",
    "        if ', ' in s:\n",
    "            sArr = s.split(', ')\n",
    "            genes.extend(sArr)\n",
    "        else:\n",
    "            genes.append(s)\n",
    "\n",
    "genes = list(dict.fromkeys(genes))\n",
    "print(genes)\n",
    "print(len(genes))"
   ]
  },
  {
   "cell_type": "code",
   "execution_count": 33,
   "id": "868750f3",
   "metadata": {},
   "outputs": [
    {
     "name": "stdout",
     "output_type": "stream",
     "text": [
      "['{\"goid\": \"GO:0070531\", \"label\": \"BRCA1-A complex\", \"definition\": \"A protein complex that contains the BRCA1-BARD1 heterodimer, RAP80/UIMC1, BRCC3/BRCC36, BRE/BRCC45, FAM175A/CCDC98/Abraxas and MERIT40/NBA1, and specifically recognizes and binds K63-linked polyubiquitin chains present on histone H2A and H2AX at DNA damage sites.\", \"synonyms\": [\"\"], \"relatedSynonyms\": [\"\"], \"alternativeIds\": [\"\"], \"xrefs\": [\"\"], \"subsets\": [\"\"]}\\n', '{\"goid\": \"GO:0010997\", \"label\": \"anaphase-promoting complex binding\", \"definition\": \"Binding to an anaphase-promoting complex. A ubiquitin ligase complex that degrades mitotic cyclins and anaphase inhibitory protein, thereby triggering sister chromatid separation and exit from mitosis.\", \"creation_date\": \"2009-06-10T11:18:22Z\", \"synonyms\": [\"APC binding\"], \"relatedSynonyms\": [\"\"], \"alternativeIds\": [\"\"], \"xrefs\": [\"\"], \"subsets\": [\"\"]}\\n', '{\"goid\": \"GO:0009454\", \"label\": \"aerotaxis\", \"definition\": \"The directed movement of a motile cell or organism in response to environmental oxygen.\", \"synonyms\": [\"taxis in response to atmospheric oxygen\"], \"relatedSynonyms\": [\"\"], \"alternativeIds\": [\"\"], \"xrefs\": [\"\"], \"subsets\": [\"\"]}\\n', '{\"goid\": \"GO:0070310\", \"label\": \"ATR-ATRIP complex\", \"definition\": \"A protein complex that contains the protein kinase ATR and ATR-interacting protein (ATRIP) and binds single-stranded DNA; ssDNA binding affinity is increased in the presence of replication protein A.\", \"synonyms\": [\"\"], \"relatedSynonyms\": [\"\"], \"alternativeIds\": [\"\"], \"xrefs\": [\"\"], \"subsets\": [\"\"]}\\n', '{\"goid\": \"GO:0031436\", \"label\": \"BRCA1-BARD1 complex\", \"definition\": \"A heterodimeric complex comprising BRCA1 and BARD1, which possesses ubiquitin ligase activity and is involved in genome maintenance, possibly by functioning in surveillance for DNA damage.\", \"synonyms\": [\"\"], \"relatedSynonyms\": [\"\"], \"alternativeIds\": [\"\"], \"xrefs\": [\"\"], \"subsets\": [\"\"]}\\n', '{\"goid\": \"GO:0070724\", \"label\": \"BMP receptor complex\", \"definition\": \"A protein complex that acts as a receptor for bone morphogenetic proteins (BMPs); a homo- or heterodimer of type I and/or type II BMP receptor subunits.\", \"creation_date\": \"2009-06-15T02:34:27Z\", \"synonyms\": [\"bone morphogenetic protein receptor complex\"], \"relatedSynonyms\": [\"\"], \"alternativeIds\": [\"\"], \"xrefs\": [\"\"], \"subsets\": [\"\"]}\\n', '{\"goid\": \"GO:0070767\", \"label\": \"BRCA1-Rad51 complex\", \"definition\": \"A protein complex that contains BRCA1 and Rad 51, and is involved in the control of recombination and of genome integrity.\", \"creation_date\": \"2009-06-29T05:04:21Z\", \"synonyms\": [\"\"], \"relatedSynonyms\": [\"\"], \"alternativeIds\": [\"\"], \"xrefs\": [\"\"], \"subsets\": [\"\"]}\\n', '{\"goid\": \"GO:0002111\", \"label\": \"BRCA2-BRAF35 complex\", \"definition\": \"A heterodimeric complex of BRCA2 and BRAF35 (BRCA2-associated factor 35). The BRCA2-BRAF35 complex is often associated with condensed chromatin during mitosis.\", \"synonyms\": [\"\"], \"relatedSynonyms\": [\"\"], \"alternativeIds\": [\"\"], \"xrefs\": [\"\"], \"subsets\": [\"\"]}\\n', '{\"goid\": \"GO:0140708\", \"label\": \"CAT tailing\", \"definition\": \"The C-terminal elongation of 60S-anchored stalled nascent polypeptide chains with untemplated alanine and threonine tails (CAT tails). CAT tails participate in the recognition of stalled nascent chains by the ribosome quality control sytem.\", \"creation_date\": \"2021-09-03T13:16:20Z\", \"synonyms\": [\"\"], \"relatedSynonyms\": [\"\"], \"alternativeIds\": [\"\"], \"xrefs\": [\"\"], \"subsets\": [\"\"]}\\n', '{\"goid\": \"GO:0071064\", \"label\": \"alphaE-beta7 integrin-E-cadherin complex\", \"definition\": \"A protein complex that consists of an alphaE-beta7 integrin complex bound to E-cadherin.\", \"creation_date\": \"2009-11-03T04:03:37Z\", \"synonyms\": [\"\"], \"relatedSynonyms\": [\"\"], \"alternativeIds\": [\"\"], \"xrefs\": [\"\"], \"subsets\": [\"\"]}\\n', '{\"goid\": \"GO:0071079\", \"label\": \"alpha2-beta1 integrin-chondroadherin complex\", \"definition\": \"A protein complex that consists of an alpha2-beta1 integrin complex bound to the cartilage matrix protein chondroadherin.\", \"creation_date\": \"2009-11-06T04:42:55Z\", \"synonyms\": [\"\"], \"relatedSynonyms\": [\"\"], \"alternativeIds\": [\"\"], \"xrefs\": [\"\"], \"subsets\": [\"\"]}\\n', '{\"goid\": \"GO:0011200\", \"synonyms\": [\"\"], \"relatedSynonyms\": [\"\"], \"alternativeIds\": [\"\"], \"xrefs\": [\"\"], \"subsets\": [\"\"]}\\n', '{\"goid\": \"GO:0005694\", \"label\": \"chromosome\", \"definition\": \"A structure composed of a very long molecule of DNA and associated proteins (e.g. histones) that carries hereditary information.\", \"comment\": \"Chromosomes include parts that are not part of the chromatin.  Examples include the kinetochore.\", \"synonyms\": [\"\"], \"relatedSynonyms\": [\"chromatid\"], \"alternativeIds\": [\"\"], \"xrefs\": [\"Wikipedia:Chromosome\"], \"subsets\": [\"http://purl.obolibrary.org/obo/go#goslim_agr\", \"http://purl.obolibrary.org/obo/go#goslim_aspergillus\", \"http://purl.obolibrary.org/obo/go#goslim_candida\", \"http://purl.obolibrary.org/obo/go#goslim_chembl\", \"http://purl.obolibrary.org/obo/go#goslim_drosophila\", \"http://purl.obolibrary.org/obo/go#goslim_flybase_ribbon\", \"http://purl.obolibrary.org/obo/go#goslim_generic\", \"http://purl.obolibrary.org/obo/go#goslim_metagenomics\", \"http://purl.obolibrary.org/obo/go#goslim_pir\", \"http://purl.obolibrary.org/obo/go#goslim_yeast\"]}\\n', '{\"goid\": \"GO:1990175\", \"label\": \"EH domain binding\", \"definition\": \"Binding to an EH domain of a protein. The EH stand for Eps15 homology. This was originally identified as a motif present in three copies at the NH2-termini of Eps15 and of the related molecule Eps15R.\", \"creation_date\": \"2013-08-27T20:14:56Z\", \"synonyms\": [\"\"], \"relatedSynonyms\": [\"\"], \"alternativeIds\": [\"\"], \"xrefs\": [\"\"], \"subsets\": [\"\"]}\\n', '{\"goid\": \"GO:0032301\", \"label\": \"MutSalpha complex\", \"definition\": \"A heterodimer involved in the recognition and repair of base-base and small insertion/deletion mismatches. In human the complex consists of two subunits, MSH2 and MSH6.\", \"synonyms\": [\"MSH2/MSH6 complex\"], \"relatedSynonyms\": [\"\"], \"alternativeIds\": [\"\"], \"xrefs\": [\"\"], \"subsets\": [\"\"]}\\n', '{\"goid\": \"GO:0005003\", \"label\": \"ephrin receptor activity\", \"definition\": \"Combining with an ephrin to initiate a change in cell activity.\", \"synonyms\": [\"Eph receptor activity\"], \"relatedSynonyms\": [\"\"], \"alternativeIds\": [\"\"], \"xrefs\": [\"\"], \"subsets\": [\"\"]}\\n', '{\"goid\": \"GO:0038143\", \"label\": \"ERBB3:ERBB2 complex\", \"definition\": \"A heterodimeric complex between the tyrosine kinase receptor ERBB2 and a ligand-activated receptor ERBB3. ERBB2, which does not bind any known ligand, is activated through formation of a heterodimer with another ligand-activated ERBB family member such as ERBB3.\", \"creation_date\": \"2012-03-30T02:16:56Z\", \"synonyms\": [\"\"], \"relatedSynonyms\": [\"\"], \"alternativeIds\": [\"\"], \"xrefs\": [\"\"], \"subsets\": [\"\"]}\\n', '{\"goid\": \"GO:0070516\", \"label\": \"CAK-ERCC2 complex\", \"definition\": \"A protein complex formed by the association of the cyclin-dependent protein kinase activating kinase (CAK) holoenzyme complex with ERCC2.\", \"synonyms\": [\"cyclin-dependent protein kinase activating kinase holoenzyme-ERCC2 complex\"], \"relatedSynonyms\": [\"\"], \"alternativeIds\": [\"\"], \"xrefs\": [\"\"], \"subsets\": [\"\"]}\\n', '{\"goid\": \"GO:0043240\", \"label\": \"Fanconi anaemia nuclear complex\", \"definition\": \"A protein complex composed of the Fanconi anaemia (FA) proteins including A, C, E, G and F (FANCA-F). Functions in the activation of the downstream protein FANCD2 by monoubiquitylation, and is essential for protection against chromosome breakage.\", \"synonyms\": [\"FA complex\", \"FA core complex\", \"FA nuclear complex\", \"Fanconi anaemia complex\"], \"relatedSynonyms\": [\"\"], \"alternativeIds\": [\"\"], \"xrefs\": [\"\"], \"subsets\": [\"\"]}\\n', '{\"goid\": \"GO:0071821\", \"label\": \"FANCM-MHF complex\", \"definition\": \"A protein complex contains the proteins FANCM and MHF, or their orthologs, plays an essential role in DNA remodeling, protects replication forks, and is conserved in eukaryotes.\", \"creation_date\": \"2010-09-07T12:08:38Z\", \"synonyms\": [\"\"], \"relatedSynonyms\": [\"\"], \"alternativeIds\": [\"\"], \"xrefs\": [\"\"], \"subsets\": [\"\"]}\\n', '{\"goid\": \"GO:0036337\", \"label\": \"Fas signaling pathway\", \"definition\": \"A series of molecular signals initiated by the binding of a ligand to the receptor Fas on the surface of the cell, and ending with regulation of a downstream cellular process, e.g. transcription. Fas is a death domain-containing member of the tumor necrosis factor receptor (TNFR) superfamily.\", \"creation_date\": \"2012-09-05T10:28:11Z\", \"synonyms\": [\"Apo-1 signaling pathway\", \"CD95 signaling pathway\", \"Fas receptor signaling pathway\", \"FasR signaling pathway\"], \"relatedSynonyms\": [\"FasL signaling pathway\"], \"alternativeIds\": [\"\"], \"xrefs\": [\"\"], \"subsets\": [\"\"]}\\n', '{\"goid\": \"GO:0008543\", \"label\": \"fibroblast growth factor receptor signaling pathway\", \"definition\": \"The series of molecular signals generated as a consequence of a fibroblast growth factor receptor binding to one of its physiological ligands.\", \"synonyms\": [\"FGF receptor signaling pathway\", \"FGF receptor signalling pathway\", \"FGFR signaling pathway\", \"fibroblast growth factor receptor signalling pathway\"], \"relatedSynonyms\": [\"\"], \"alternativeIds\": [\"\"], \"xrefs\": [\"\"], \"subsets\": [\"\"]}\\n', '{\"goid\": \"GO:0004333\", \"label\": \"fumarate hydratase activity\", \"definition\": \"Catalysis of the reaction: (S)-malate = fumarate + H(2)O.\", \"synonyms\": [\"\"], \"relatedSynonyms\": [\"(S)-malate hydro-lyase (fumarate-forming)\", \"(S)-malate hydro-lyase activity\", \"fumarase activity\", \"L-malate hydro-lyase activity\"], \"alternativeIds\": [\"\"], \"xrefs\": [\"EC:4.2.1.2\", \"KEGG_REACTION:R01082\", \"MetaCyc:FUMHYDR-RXN\", \"Reactome:R-HSA-451033\", \"Reactome:R-HSA-70982\", \"RHEA:12460\"], \"subsets\": [\"\"]}\\n', '{\"goid\": \"GO:0048256\", \"label\": \"flap endonuclease activity\", \"definition\": \"Catalysis of the cleavage of a flap structure in DNA, but not other DNA structures; processes the ends of Okazaki fragments in lagging strand DNA synthesis.\", \"synonyms\": [\"\"], \"relatedSynonyms\": [\"\"], \"alternativeIds\": [\"\"], \"xrefs\": [\"\"], \"subsets\": [\"\"]}\\n', '{\"goid\": \"GO:0070186\", \"label\": \"growth hormone activity\", \"definition\": \"The action characteristic of growth hormone, a peptide hormone that is secreted by the anterior pituitary or the placenta into the circulation, and binds to membrane receptors in target tissues to stimulate body growth.\", \"synonyms\": [\"GH activity\"], \"relatedSynonyms\": [\"\"], \"alternativeIds\": [\"\"], \"xrefs\": [\"\"], \"subsets\": [\"\"]}\\n', '{\"goid\": \"GO:0004364\", \"label\": \"glutathione transferase activity\", \"definition\": \"Catalysis of the reaction: R-X + glutathione = H-X + R-S-glutathione. R may be an aliphatic, aromatic or heterocyclic group; X may be a sulfate, nitrile or halide group.\", \"synonyms\": [\"glutathione conjugation reaction\"], \"relatedSynonyms\": [\"glutathione S-alkyl transferase activity\", \"glutathione S-alkyltransferase activity\", \"glutathione S-aralkyltransferase activity\", \"glutathione S-aryltransferase activity\", \"glutathione S-transferase activity\", \"RX:glutathione R-transferase activity\", \"S-(hydroxyalkyl)glutathione lyase activity\"], \"alternativeIds\": [\"\"], \"xrefs\": [\"EC:2.5.1.18\", \"MetaCyc:GSHTRAN-RXN\", \"Reactome:R-HSA-176054\", \"Reactome:R-HSA-176059\", \"Reactome:R-HSA-3301943\", \"Reactome:R-HSA-5423653\", \"Reactome:R-HSA-9026777\", \"Reactome:R-HSA-9026780\", \"Reactome:R-HSA-9026901\", \"Reactome:R-HSA-9026911\"], \"subsets\": [\"\"]}\\n', '{\"goid\": \"GO:1990712\", \"label\": \"HFE-transferrin receptor complex\", \"definition\": \"A protein complex containing at least HFE and a transferrin receptor (either TFR1/TFRC or TFR2), proposed to play a role in the sensing of transferrin-bound Fe (Fe2-Tf) on the plasma membrane to regulate hepcidin transcription.\", \"creation_date\": \"2015-03-26T13:03:27Z\", \"synonyms\": [\"\"], \"relatedSynonyms\": [\"\"], \"alternativeIds\": [\"\"], \"xrefs\": [\"\"], \"subsets\": [\"\"]}\\n', '{\"goid\": \"GO:0000344\", \"label\": \"plastid-encoded plastid RNA polymerase complex B\", \"definition\": \"A plastid-encoded DNA-directed RNA polymerase complex that resembles eubacterial multisubunit RNA polymerases with a core composed of alpha, beta, and beta-prime subunits. An additional subunit, a sigma factor, is required for promoter recognition. PEP-B is distinguished from PEP-A by its sensitivity to the antibiotic rifampicin. PEP-B is found in both etioplasts and chloroplasts, but is the predominate form in etioplasts. It forms the core of the PEP-A form; the conversion from PEP-B to PEP-A occurs during chloroplast maturation.\", \"synonyms\": [\"PEP-B\"], \"relatedSynonyms\": [\"\"], \"alternativeIds\": [\"\"], \"xrefs\": [\"\"], \"subsets\": [\"\"]}\\n', '{\"goid\": \"GO:0016942\", \"label\": \"insulin-like growth factor binding protein complex\", \"definition\": \"A complex of proteins which includes the insulin-like growth factor (IGF) and a number of IGF-binding proteins. The complex plays a role in growth and development.\", \"synonyms\": [\"IGF binding protein complex\"], \"relatedSynonyms\": [\"\"], \"alternativeIds\": [\"\"], \"xrefs\": [\"\"], \"subsets\": [\"http://purl.obolibrary.org/obo/go#goslim_pir\"]}\\n', '{\"goid\": \"GO:0036029\", \"label\": \"protein C inhibitor-KLK3 complex\", \"definition\": \"A heterodimeric protein complex that contains protein C inhibitor (SERPINA5) and prostate-specific antigen (KLK3); formation of the complex inhibits the serine protease activity of prostate-specific antigen.\", \"creation_date\": \"2011-10-19T02:01:33Z\", \"synonyms\": [\"PCI-KLK3 complex\", \"plasma serine protease inhibitor-KLK3 complex\", \"protein C inhibitor-kallikrein-3 complex\", \"protein C inhibitor-prostate-specific antigen complex\", \"serpin A5-KLK3 complex\", \"SERPINA5-KLK3 complex\"], \"relatedSynonyms\": [\"\"], \"alternativeIds\": [\"\"], \"xrefs\": [\"\"], \"subsets\": [\"\"]}\\n', '{\"goid\": \"GO:0032390\", \"label\": \"MutLbeta complex\", \"definition\": \"A heterodimer involved in the recognition of base-base and small insertion/deletion mismatches. In human the complex consists of two subunits, MLH1 and PMS1.\", \"synonyms\": [\"MLH1/PMS1 complex\"], \"relatedSynonyms\": [\"\"], \"alternativeIds\": [\"\"], \"xrefs\": [\"\"], \"subsets\": [\"\"]}\\n', '{\"goid\": \"GO:0032389\", \"label\": \"MutLalpha complex\", \"definition\": \"A heterodimer involved in the recognition of base-base and small insertion/deletion mismatches. In human the complex consists of two subunits, MLH1 and PMS2.\", \"synonyms\": [\"MLH1/PMS2 complex\", \"MutL-alpha complex\"], \"relatedSynonyms\": [\"\"], \"alternativeIds\": [\"\"], \"xrefs\": [\"\"], \"subsets\": [\"\"]}\\n', '{\"goid\": \"GO:0030870\", \"label\": \"Mre11 complex\", \"definition\": \"Trimeric protein complex that possesses endonuclease activity; involved in meiotic recombination, DNA repair and checkpoint signaling. In Saccharomyces cerevisiae, the complex comprises Mre11p, Rad50p, and Xrs2p; complexes identified in other species generally contain proteins orthologous to the Saccharomyces cerevisiae proteins.\", \"synonyms\": [\"MRN complex\", \"MRX complex\", \"Rad50 complex\", \"RAD50-MRE11-NBN complex\", \"Rad50-Rad32-Nbs1 complex\", \"RMX complex\"], \"relatedSynonyms\": [\"\"], \"alternativeIds\": [\"\"], \"xrefs\": [\"\"], \"subsets\": [\"\"]}\\n', '{\"goid\": \"GO:0032302\", \"label\": \"MutSbeta complex\", \"definition\": \"A heterodimer involved in binding to and correcting insertion/deletion mutations. In human the complex consists of two subunits, MSH2 and MSH3.\", \"synonyms\": [\"MSH2/MSH3 complex\"], \"relatedSynonyms\": [\"\"], \"alternativeIds\": [\"\"], \"xrefs\": [\"\"], \"subsets\": [\"\"]}\\n', '{\"goid\": \"GO:0071943\", \"label\": \"Myc-Max complex\", \"definition\": \"A transcription factor complex that consists of a heterodimer of the bHLH-ZIP proteins Myc and Max.\", \"creation_date\": \"2010-10-01T11:56:17Z\", \"synonyms\": [\"\"], \"relatedSynonyms\": [\"\"], \"alternativeIds\": [\"\"], \"xrefs\": [\"\"], \"subsets\": [\"\"]}\\n', '{\"goid\": \"GO:0047921\", \"label\": \"aminoglycoside 2\\'-N-acetyltransferase activity\", \"definition\": \"Catalysis of the reaction: acetyl-CoA + gentamicin C(1a) = N(2\\')-acetylgentamicin C(1a) + CoA + H(+). This is acetylation of the 2\\'-amino group of the 6-deoxy-6-aminoglucose ring.\", \"synonyms\": [\"\"], \"relatedSynonyms\": [\"gentamycin acetyltransferase II\"], \"alternativeIds\": [\"\"], \"xrefs\": [\"EC:2.3.1.59\", \"KEGG_REACTION:R03056\", \"MetaCyc:GENTAMICIN-2-N-ACETYLTRANSFERASE-RXN\", \"RHEA:24516\"], \"subsets\": [\"\"]}\\n', '{\"goid\": \"GO:0038049\", \"synonyms\": [\"\"], \"relatedSynonyms\": [\"\"], \"alternativeIds\": [\"\"], \"xrefs\": [\"\"], \"subsets\": [\"\"]}\\n', '{\"goid\": \"GO:0070431\", \"label\": \"nucleotide-binding oligomerization domain containing 2 signaling pathway\", \"definition\": \"Any series of molecular signals generated as a consequence of binding to nucleotide-binding oligomerization domain containing 2 (NOD2).\", \"synonyms\": [\"NOD2 signaling pathway\", \"nucleotide-binding oligomerization domain containing 2 signalling pathway\"], \"relatedSynonyms\": [\"\"], \"alternativeIds\": [\"\"], \"xrefs\": [\"\"], \"subsets\": [\"\"]}\\n', '{\"goid\": \"GO:0031849\", \"label\": \"olfactory receptor binding\", \"definition\": \"Binding to an olfactory receptor.\", \"synonyms\": [\"\"], \"relatedSynonyms\": [\"\"], \"alternativeIds\": [\"\"], \"xrefs\": [\"\"], \"subsets\": [\"\"]}\\n', '{\"goid\": \"GO:0005942\", \"label\": \"phosphatidylinositol 3-kinase complex\", \"definition\": \"A protein complex capable of phosphatidylinositol 3-kinase activity and containing subunits of any phosphatidylinositol 3-kinase (PI3K) enzyme. These complexes are divided in three classes (called I, II and III) that differ for their presence across taxonomic groups and for the type of their constituents. Catalytic subunits of phosphatidylinositol 3-kinase enzymes are present in all 3 classes; regulatory subunits of phosphatidylinositol 3-kinase enzymes are present in classes I and III; adaptor proteins have been observed in class II complexes and may be present in other classes too.\", \"comment\": \"For discussion of membrane association, please see https://sourceforge.net/p/geneontology/ontology-requests/11559/\", \"synonyms\": [\"1-phosphatidylinositol 3-kinase complex\", \"phosphoinositide 3-kinase complex\", \"PI3K complex\"], \"relatedSynonyms\": [\"\"], \"alternativeIds\": [\"\"], \"xrefs\": [\"\"], \"subsets\": [\"http://purl.obolibrary.org/obo/go#goslim_pir\"]}\\n', '{\"goid\": \"GO:0036027\", \"label\": \"protein C inhibitor-PLAU complex\", \"definition\": \"A heterodimeric protein complex that contains protein C inhibitor (SERPINA5) and urokinase-type plasminogen activator (PLAU); formation of the complex inhibits the serine protease activity of urokinase-type plasminogen activator.\", \"creation_date\": \"2011-10-19T01:37:03Z\", \"synonyms\": [\"PCI-PLAU complex\", \"plasma serine protease inhibitor-PLAU complex\", \"protein C inhibitor-U-plasminogen activator complex\", \"protein C inhibitor-uPA complex\", \"protein C inhibitor-urokinase-type plasminogen activator complex\", \"serpin A5-PLAU complex\", \"SERPINA5-PLAU complex\"], \"relatedSynonyms\": [\"\"], \"alternativeIds\": [\"\"], \"xrefs\": [\"\"], \"subsets\": [\"\"]}\\n', '{\"goid\": \"GO:0005760\", \"label\": \"gamma DNA polymerase complex\", \"definition\": \"A DNA polymerase complex consisting of a large subunit, responsible for the catalytic activities, and a small accessory subunit. Functions in the replication and repair of mitochondrial DNA.\", \"synonyms\": [\"\"], \"relatedSynonyms\": [\"\"], \"alternativeIds\": [\"\"], \"xrefs\": [\"\"], \"subsets\": [\"\"]}\\n', '{\"goid\": \"GO:1990455\", \"label\": \"PTEN phosphatase complex\", \"definition\": \"A phospholipid phosphatase complex that catalyses the hydrolysis of the second messenger PtdIns (3,4,5)P3. Will also dephosphorylate PtdIns(3,4)P2, PtdIns3P, and Ins(1,3,4,5)P4. Dimerization is critical for its lipid phosphatase function.\", \"comment\": \"An example of this is PTEN in human (P60484) in PMID:24766807 (inferred from direct assay).\", \"creation_date\": \"2014-08-13T10:21:20Z\", \"synonyms\": [\"phosphatase and tensin homolog\", \"phosphatase and tensin homolog deleted on chromosome ten homodimer\", \"phosphatidylinositol 3,4,5-trisphosphate 3-phosphatase and dual-specificity protein phosphatase PTEN homodimer\"], \"relatedSynonyms\": [\"\"], \"alternativeIds\": [\"\"], \"xrefs\": [\"\"], \"subsets\": [\"\"]}\\n', '{\"goid\": \"GO:0070522\", \"label\": \"ERCC4-ERCC1 complex\", \"definition\": \"A heterodimeric nucleotide-excision repair complex that has endonuclease activity specific for bubble structures characteristic of certain DNA lesions. The subunits are known as XPF/ERCC4 and ERCC1 in mammals, and Rad1p and Rad10p in S. cerevisiae.\", \"comment\": \"Note that process and function information are included in the term and definition for the purpose of describing and distinguishing the complex.\", \"synonyms\": [\"Rad1-Rad10 complex\", \"XPF-ERCC1 complex\"], \"relatedSynonyms\": [\"\"], \"alternativeIds\": [\"\"], \"xrefs\": [\"\"], \"subsets\": [\"\"]}\\n', '{\"goid\": \"GO:0033066\", \"label\": \"Rad51B-Rad51C complex\", \"definition\": \"A DNA recombinase mediator complex that contains the Rad51 paralogs RAD51B and RAD51C, or orthologs thereof.\", \"synonyms\": [\"BC complex\"], \"relatedSynonyms\": [\"\"], \"alternativeIds\": [\"\"], \"xrefs\": [\"\"], \"subsets\": [\"\"]}\\n', '{\"goid\": \"GO:0033063\", \"label\": \"Rad51B-Rad51C-Rad51D-XRCC2 complex\", \"definition\": \"A DNA recombinase mediator complex that contains the Rad51 paralogs RAD51B, RAD51C, RAD51D, and XRCC2, or orthologs thereof.\", \"synonyms\": [\"BCDX2 complex\"], \"relatedSynonyms\": [\"\"], \"alternativeIds\": [\"\"], \"xrefs\": [\"\"], \"subsets\": [\"\"]}\\n', '{\"goid\": \"GO:0070312\", \"label\": \"RAD52-ERCC4-ERCC1 complex\", \"definition\": \"A nucleotide-excision repair complex formed by the association of the heterodimeric endonuclease XPF/ERCC4-ERCC1 (Rad1p and Rad10p in S. cerevisiae) with the RAD52 protein.\", \"comment\": \"Note that process and function information are included in the term and definition for the purpose of describing and distinguishing the complex.\", \"synonyms\": [\"\"], \"relatedSynonyms\": [\"\"], \"alternativeIds\": [\"\"], \"xrefs\": [\"\"], \"subsets\": [\"\"]}\\n', '{\"goid\": \"GO:0031422\", \"label\": \"RecQ family helicase-topoisomerase III complex\", \"definition\": \"A complex containing a RecQ family helicase and a topoisomerase III homologue (a member of the topoisomerase type IA subfamily); may also include one or more additional proteins; conserved from E. coli to human.\", \"synonyms\": [\"RecQ helicase-Topo III complex\"], \"relatedSynonyms\": [\"\"], \"alternativeIds\": [\"\"], \"xrefs\": [\"\"], \"subsets\": [\"\"]}\\n', '{\"goid\": \"GO:0005662\", \"label\": \"DNA replication factor A complex\", \"definition\": \"A conserved heterotrimeric complex that binds nonspecifically to single-stranded DNA and is required for multiple processes in eukaryotic DNA metabolism, including DNA replication, DNA repair, and recombination. In all eukaryotic organisms examined the complex is composed of subunits of approximately 70, 30, and 14 kDa.\", \"synonyms\": [\"RPA\", \"replication protein A\"], \"relatedSynonyms\": [\"\"], \"alternativeIds\": [\"\"], \"xrefs\": [\"Wikipedia:Replication_protein_A\"], \"subsets\": [\"\"]}\\n', '{\"goid\": \"GO:0045281\", \"label\": \"succinate dehydrogenase complex\", \"definition\": \"A multimeric complex which consists of flavoprotein (subunit A ; InterPro:IPR003952), iron-sulfur protein (subunit B) and membrane-bound cytochrome b560 (subunit C; InterPro:IPR000701). In some Archaea, the membrane-bound subunits (C or C and D) do not necessarily contain heme. Membrane-bound subunits can bind or react with quinones.\", \"synonyms\": [\"\"], \"relatedSynonyms\": [\"\"], \"alternativeIds\": [\"\"], \"xrefs\": [\"\"], \"subsets\": [\"\"]}\\n', '{\"goid\": \"GO:0033868\", \"label\": \"obsolete Goodpasture-antigen-binding protein kinase activity\", \"definition\": \"OBSOLETE. Catalysis of the reaction: ATP + Goodpasture antigen-binding protein = ADP + Goodpasture antigen-binding phosphoprotein.\", \"comment\": \"This term was made obsolete because it represents a specific gene product.\", \"synonyms\": [\"\"], \"relatedSynonyms\": [\"ATP:Goodpasture antigen-binding protein phosphotransferase activity\", \"Goodpasture antigen-binding protein kinase activity\", \"GPBP kinase activity\", \"GPBPK\", \"STK11\"], \"alternativeIds\": [\"\"], \"xrefs\": [\"EC:2.7.11.9\", \"MetaCyc:2.7.11.9-RXN\"], \"subsets\": [\"\"]}\\n', '{\"goid\": \"GO:1990572\", \"label\": \"TERT-RMRP complex\", \"definition\": \"A ribonucleoprotein complex that has RNA-directed RNA polymerase (RdRP) activity, and is composed of telomerase reverse transcriptase (TERT) and the non-coding RNA component of mitochondrial RNA processing endoribonuclease (RMRP).\", \"creation_date\": \"2014-12-02T11:29:12Z\", \"synonyms\": [\"telomerase reverse transcriptase:RMRP RNA complex\"], \"relatedSynonyms\": [\"\"], \"alternativeIds\": [\"\"], \"xrefs\": [\"\"], \"subsets\": [\"\"]}\\n', '{\"goid\": \"GO:0071100\", \"label\": \"alphaV-beta8 integrin-MMP14-TGFbeta-1 complex\", \"definition\": \"A protein complex that consists of an alphaV-beta8 integrin complex bound to matrix metalloproteinase 14 and transforming growth factor beta-1 (TGFbeta-1).\", \"creation_date\": \"2009-11-06T04:52:43Z\", \"synonyms\": [\"\"], \"relatedSynonyms\": [\"\"], \"alternativeIds\": [\"\"], \"xrefs\": [\"\"], \"subsets\": [\"\"]}\\n', '{\"goid\": \"GO:0070018\", \"label\": \"obsolete transforming growth factor beta type I receptor homodimeric complex\", \"definition\": \"OBSOLETE. A receptor complex that consists of two transforming growth factor beta (TGF-beta) type I receptor monomers. TGF-beta type I receptor dimers form in the presence or absence of ligand, and can associate with ligand-bound TGF-beta type II receptor dimers.\", \"comment\": \"This term was made obsolete because it does not represent a physiological complex.\", \"synonyms\": [\"TGF-beta type I receptor complex\", \"TGF-beta type I receptor dimer\", \"TGFBR1 homodimer\", \"transforming growth factor beta type I receptor complex\"], \"relatedSynonyms\": [\"\"], \"alternativeIds\": [\"\"], \"xrefs\": [\"\"], \"subsets\": [\"\"]}\\n', '{\"goid\": \"GO:0061481\", \"label\": \"response to TNF agonist\", \"definition\": \"Any process that results in a change in state or activity of a cell or an organism (in terms of movement, secretion, enzyme production, gene expression, etc.) as a result of a TNF agonist stimulus.\", \"creation_date\": \"2012-11-07T09:14:07Z\", \"synonyms\": [\"\"], \"relatedSynonyms\": [\"\"], \"alternativeIds\": [\"\"], \"xrefs\": [\"\"], \"subsets\": [\"\"]}\\n', '{\"goid\": \"GO:0030330\", \"label\": \"DNA damage response, signal transduction by p53 class mediator\", \"definition\": \"A cascade of processes induced by the cell cycle regulator phosphoprotein p53, or an equivalent protein, in response to the detection of DNA damage.\", \"synonyms\": [\"\"], \"relatedSynonyms\": [\"DNA damage response, activation of p53\", \"p53 signaling pathway\", \"TP53 signaling pathway\"], \"alternativeIds\": [\"GO:0006976\"], \"xrefs\": [\"\"], \"subsets\": [\"\"]}\\n', '{\"goid\": \"GO:0042809\", \"label\": \"vitamin D receptor binding\", \"definition\": \"Binding to a vitamin D receptor, a nuclear receptor that mediates the action of vitamin D by binding DNA and controlling the transcription of hormone-sensitive genes.\", \"synonyms\": [\"VDR binding\"], \"relatedSynonyms\": [\"\"], \"alternativeIds\": [\"\"], \"xrefs\": [\"\"], \"subsets\": [\"\"]}\\n', '{\"goid\": \"GO:0038085\", \"label\": \"vascular endothelial growth factor binding\", \"definition\": \"Binding to a vascular endothelial growth factor.\", \"creation_date\": \"2012-02-01T02:36:36Z\", \"synonyms\": [\"VEGF binding\"], \"relatedSynonyms\": [\"\"], \"alternativeIds\": [\"\"], \"xrefs\": [\"\"], \"subsets\": [\"\"]}\\n', '{\"goid\": \"GO:0030891\", \"label\": \"VCB complex\", \"definition\": \"A protein complex that possesses ubiquitin ligase activity; the complex is usually pentameric; for example, in mammals the subunits are pVHL, elongin B, elongin C, cullin-2 (Cul2), and Rbx1.\", \"synonyms\": [\"pVHL-elongin C-elongin B complex\", \"VHL complex\", \"von Hippel-Lindau tumor suppressor complex\"], \"relatedSynonyms\": [\"\"], \"alternativeIds\": [\"\"], \"xrefs\": [\"\"], \"subsets\": [\"\"]}\\n', '{\"goid\": \"GO:0000110\", \"label\": \"nucleotide-excision repair factor 1 complex\", \"definition\": \"One of several protein complexes involved in nucleotide-excision repair; possesses DNA damage recognition and endodeoxynuclease activities. In S. cerevisiae, it is composed of Rad1p, Rad10p, and Rad14p; in human the subunits are ERCC4/XPF, ERCC1 and XPA, respectively.\", \"comment\": \"Note that process and function information are included in the term and definition for the purpose of describing and distinguishing the complex.\", \"synonyms\": [\"NEF1 complex\", \"XPA-ERCC1-ERCC4 complex\"], \"relatedSynonyms\": [\"\"], \"alternativeIds\": [\"\"], \"xrefs\": [\"\"], \"subsets\": [\"\"]}\\n', '{\"goid\": \"GO:0071942\", \"label\": \"XPC complex\", \"definition\": \"A nucleotide-excision repair complex that is involved in damage sensing during global genome nucleotide excision repair (GG-NER). It is part of the pre-incision (or initial recognition) complex bound to sites of DNA damage. In human, it is composed of XPC, RAD23B and CETN2.\", \"creation_date\": \"2010-10-01T11:09:36Z\", \"synonyms\": [\"\"], \"relatedSynonyms\": [\"\"], \"alternativeIds\": [\"\"], \"xrefs\": [\"\"], \"subsets\": [\"\"]}\\n', '{\"goid\": \"GO:0033064\", \"label\": \"XRCC2-RAD51D complex\", \"definition\": \"A heterodimeric DNA recombinase mediator complex that contains the Rad51 paralogs RAD51D and XRCC2, or orthologs thereof; conserved from fission yeast to human but absent from budding yeast.\", \"synonyms\": [\"DX2 complex\"], \"relatedSynonyms\": [\"\"], \"alternativeIds\": [\"\"], \"xrefs\": [\"\"], \"subsets\": [\"\"]}\\n']\n"
     ]
    }
   ],
   "source": [
    "import requests\n",
    " \n",
    "url = \"http://api.geneontology.org/api/ontology/term/\"\n",
    "\n",
    "result = []\n",
    "\n",
    "for g in genes:\n",
    "    response = requests.get(url + g)\n",
    "    if response.ok:\n",
    "        result.append(response.text)\n",
    "    else:\n",
    "        print('Error : ' + g)   \n",
    "print(result)"
   ]
  },
  {
   "cell_type": "code",
   "execution_count": 34,
   "id": "e1b10028",
   "metadata": {},
   "outputs": [
    {
     "name": "stdout",
     "output_type": "stream",
     "text": [
      "GO:0070531\n"
     ]
    }
   ],
   "source": [
    "import json\n",
    "from collections import namedtuple\n",
    "\n",
    "objs = []\n",
    "for r in result:\n",
    "    obj = json.loads(r, object_hook=lambda d: namedtuple('X', d.keys())(*d.values()))\n",
    "    if hasattr( obj, 'label' ):\n",
    "        objs.append(obj)\n",
    "    #print(obj.goid)\n",
    "    \n",
    "print(objs[0].goid)"
   ]
  },
  {
   "cell_type": "code",
   "execution_count": 6,
   "id": "21047766",
   "metadata": {},
   "outputs": [
    {
     "name": "stdout",
     "output_type": "stream",
     "text": [
      "Requirement already satisfied: xlsxwriter in c:\\users\\abolima\\anaconda3\\lib\\site-packages (1.3.8)Note: you may need to restart the kernel to use updated packages.\n",
      "\n"
     ]
    }
   ],
   "source": [
    "pip install xlsxwriter "
   ]
  },
  {
   "cell_type": "code",
   "execution_count": 39,
   "id": "4de5dec4",
   "metadata": {},
   "outputs": [
    {
     "name": "stdout",
     "output_type": "stream",
     "text": [
      "Done\n"
     ]
    }
   ],
   "source": [
    "# import xlsxwriter module\n",
    "import xlsxwriter\n",
    "\n",
    "synonyms = []\n",
    "workbook = xlsxwriter.Workbook('gene2.xlsx')\n",
    "\n",
    "worksheet = workbook.add_worksheet()\n",
    " \n",
    "worksheet.write('A1', 'goid')\n",
    "worksheet.write('B1', 'label')\n",
    "worksheet.write('C1', 'synonyms')\n",
    "worksheet.write('D1', 'definition')\n",
    "\n",
    "\n",
    "counter = 0\n",
    "\n",
    "for obj in objs:\n",
    "    counter += 1\n",
    "    worksheet.write(counter, 0, obj.goid)\n",
    "    worksheet.write(counter, 1, obj.label)\n",
    "    worksheet.write(counter, 2, obj.synonyms[0])\n",
    "    worksheet.write(counter, 3, obj.definition)\n",
    "\n",
    "workbook.close()\n",
    "print('Done')"
   ]
  },
  {
   "cell_type": "code",
   "execution_count": null,
   "id": "ce610deb",
   "metadata": {},
   "outputs": [],
   "source": []
  }
 ],
 "metadata": {
  "kernelspec": {
   "display_name": "Python 3",
   "language": "python",
   "name": "python3"
  },
  "language_info": {
   "codemirror_mode": {
    "name": "ipython",
    "version": 3
   },
   "file_extension": ".py",
   "mimetype": "text/x-python",
   "name": "python",
   "nbconvert_exporter": "python",
   "pygments_lexer": "ipython3",
   "version": "3.8.8"
  }
 },
 "nbformat": 4,
 "nbformat_minor": 5
}
